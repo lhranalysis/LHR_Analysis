{
 "cells": [
  {
   "cell_type": "code",
   "execution_count": 11,
   "id": "d6fd0fe8-66f2-4c07-8dd6-05e08328a553",
   "metadata": {},
   "outputs": [],
   "source": [
    "import os\n",
    "import scipy.io\n",
    "import numpy as np"
   ]
  },
  {
   "cell_type": "code",
   "execution_count": 3,
   "id": "4ca9a1ff-cdb7-49ef-b637-2438a01d5093",
   "metadata": {},
   "outputs": [],
   "source": [
    "files = [i for i in os.listdir('./data') if i.endswith('.mat')]"
   ]
  },
  {
   "cell_type": "code",
   "execution_count": 19,
   "id": "24601c21-5111-461a-a04a-6c6e105c3d63",
   "metadata": {},
   "outputs": [],
   "source": [
    "mat = scipy.io.loadmat('./data/'+files[3])\n"
   ]
  },
  {
   "cell_type": "code",
   "execution_count": 20,
   "id": "2b6d1b86-e044-4275-8aa5-76ba7c42621d",
   "metadata": {},
   "outputs": [
    {
     "data": {
      "text/plain": [
       "(1500, 28)"
      ]
     },
     "execution_count": 20,
     "metadata": {},
     "output_type": "execute_result"
    }
   ],
   "source": [
    "np.shape(mat['corrTRACE'])"
   ]
  },
  {
   "cell_type": "code",
   "execution_count": 21,
   "id": "bda30946-cce5-4123-8245-21ae61c9395f",
   "metadata": {},
   "outputs": [
    {
     "data": {
      "text/plain": [
       "['S1622 hom Image 2b Testis corrTRACE.mat',\n",
       " 'S1623 hom Image 1a Testis corrTRACE.mat',\n",
       " 'S1623 hom Image 2 Testis corrTRACE.mat',\n",
       " 'S1755 Image 2a Testis corrTRACE.mat',\n",
       " '613-129 (hom) Image 2a Testis corrTRACE.mat',\n",
       " 'S1754 Image 1b Testis corrTRACE.mat',\n",
       " '613-129 (hom) Image 1c Testis corrTRACE.mat',\n",
       " 'S1622 hom Image 1a Testis corrTRACE.mat',\n",
       " 'S1753 Image 1c Testis corrTRACE.mat',\n",
       " 'S1755 Image 1b Testis corrTRACE.mat',\n",
       " '613-129 (hom) Image 1b Testis corrTRACE.mat',\n",
       " 'S1754 Image 2a Testis corrTRACE.mat',\n",
       " 'S1754 Image 2b Testis corrTRACE.mat',\n",
       " '613-129 (hom) Image 1a Testis corrTRACE.mat',\n",
       " 'S1755 Image 1a Testis corrTRACE.mat',\n",
       " 'S1753 Image 2b Testis corrTRACE.mat',\n",
       " 'S1622 hom Image 1b Testis corrTRACE.mat',\n",
       " '613-129 (hom) Image 2b Testis corrTRACE.mat',\n",
       " 'S1753 Image 2c Testis corrTRACE.mat',\n",
       " 'S1622 hom Image 2a Testis corrTRACE.mat',\n",
       " 'S1623 hom Image 1b Testis corrTRACE.mat',\n",
       " 'S1622 hom Image 3 Testis corrTRACE.mat']"
      ]
     },
     "execution_count": 21,
     "metadata": {},
     "output_type": "execute_result"
    }
   ],
   "source": [
    "files"
   ]
  },
  {
   "cell_type": "code",
   "execution_count": 22,
   "id": "938ba776-6dc9-490c-b908-4c84a7e5d070",
   "metadata": {},
   "outputs": [
    {
     "data": {
      "text/plain": [
       "{'__header__': b'MATLAB 5.0 MAT-file, Platform: PCWIN64, Created on: Thu May 16 13:25:27 2024',\n",
       " '__version__': '1.0',\n",
       " '__globals__': [],\n",
       " 'corrTRACE': array([[ 1.46863707e-02,  5.99274779e-02, -2.17995014e-02, ...,\n",
       "          4.72257261e-02, -2.11106285e-03,  7.34163751e-03],\n",
       "        [ 1.82053802e-02,  4.34837630e-02,  3.82197457e-03, ...,\n",
       "         -4.98929499e-03,  3.49741116e-02,  2.72680109e-02],\n",
       "        [ 3.14077242e-02,  1.15438819e-02, -6.35846645e-03, ...,\n",
       "         -2.00485942e-02, -2.90244055e-04, -1.98007380e-02],\n",
       "        ...,\n",
       "        [-1.69382340e-01, -7.60285898e-02, -2.91791336e-01, ...,\n",
       "         -5.21847668e-01, -7.19193981e-02, -1.27486627e-01],\n",
       "        [-1.82473146e-01, -7.46199807e-02, -2.66895547e-01, ...,\n",
       "         -5.54725028e-01, -9.62790070e-02, -1.26967017e-01],\n",
       "        [-1.39748422e-01, -8.71779634e-02, -2.76190715e-01, ...,\n",
       "         -5.60756104e-01, -1.21174196e-01, -9.50621107e-02]])}"
      ]
     },
     "execution_count": 22,
     "metadata": {},
     "output_type": "execute_result"
    }
   ],
   "source": [
    "mat"
   ]
  },
  {
   "cell_type": "code",
   "execution_count": null,
   "id": "2b41040e-012d-4080-a1d9-53d4c3dfa33c",
   "metadata": {},
   "outputs": [],
   "source": []
  }
 ],
 "metadata": {
  "kernelspec": {
   "display_name": "Python 3 (ipykernel)",
   "language": "python",
   "name": "python3"
  },
  "language_info": {
   "codemirror_mode": {
    "name": "ipython",
    "version": 3
   },
   "file_extension": ".py",
   "mimetype": "text/x-python",
   "name": "python",
   "nbconvert_exporter": "python",
   "pygments_lexer": "ipython3",
   "version": "3.8.19"
  }
 },
 "nbformat": 4,
 "nbformat_minor": 5
}

{
 "cells": [
  {
   "cell_type": "code",
   "execution_count": 1,
   "id": "d6fd0fe8-66f2-4c07-8dd6-05e08328a553",
   "metadata": {},
   "outputs": [],
   "source": [
    "import os\n",
    "import scipy.io\n",
    "import numpy as np\n",
    "from matplotlib import pyplot as plt\n",
    "from PIL import Image\n",
    "from torch.utils.data import ConcatDataset, DataLoader\n",
    "from tqdm import tqdm\n",
    "\n",
    "from torch.utils.data import Dataset\n",
    "import torch\n",
    "import torch.nn as nn\n",
    "import torch.optim as optim\n",
    "from sklearn.model_selection import train_test_split\n",
    "from sklearn.metrics import accuracy_score\n",
    "from torchvision import transforms"
   ]
  },
  {
   "cell_type": "code",
   "execution_count": 2,
   "id": "40248762-40bd-49c9-8744-5a84d9eab1bf",
   "metadata": {},
   "outputs": [],
   "source": [
    "import torch\n",
    "import torch.nn as nn\n",
    "import torch.nn.functional as F\n",
    "import torch.optim as optim\n",
    "from modules import NormedConv2d,BcosConv2d,NormedLinear\n",
    "from sklearn.model_selection import train_test_split\n",
    "from sklearn.metrics import accuracy_score\n",
    "import numpy as np"
   ]
  },
  {
   "cell_type": "code",
   "execution_count": 3,
   "id": "0bc3e722-11e6-41fc-b292-3d16ef6f8878",
   "metadata": {},
   "outputs": [],
   "source": [
    "if torch.cuda.is_available():\n",
    "\tdevice = torch.device(\"cuda\")\n",
    "elif torch.backends.mps.is_available():\n",
    "\tdevice = torch.device(\"mps\")\n",
    "else:\n",
    "\tdevice = torch.device(\"cpu\")"
   ]
  },
  {
   "cell_type": "code",
   "execution_count": 4,
   "id": "d4e84a53-1fb6-4f39-9d4b-e02a7288cf89",
   "metadata": {},
   "outputs": [
    {
     "name": "stdout",
     "output_type": "stream",
     "text": [
      "Directories and files in root path: ['613-129 (hom)', 'S1753 (control)']\n"
     ]
    }
   ],
   "source": [
    "root_path = './images/'\n",
    "sup_sets = os.listdir(root_path)\n",
    "sup_sets = [i for i in sup_sets if (i.endswith('(hom)') or i.endswith('(control)'))] # the two labels\n",
    "hom = [i for i in sup_sets if i.endswith('(hom)')]\n",
    "control = [i for i in sup_sets if i.endswith('(control)')]\n",
    "\n",
    "print(\"Directories and files in root path:\", sup_sets)"
   ]
  },
  {
   "cell_type": "code",
   "execution_count": 5,
   "id": "a236f195-ee1d-4828-832a-60597bd04cb7",
   "metadata": {},
   "outputs": [],
   "source": [
    "def get_image_path_dir(dir_path):\n",
    "    recordings = os.listdir(dir_path)\n",
    "    recordings = [i for i in recordings if not i=='.DS_Store']\n",
    "    Rs = {key: [] for key in recordings}\n",
    "    for i in recordings:\n",
    "        image_names = os.listdir(dir_path+i)\n",
    "        image_names = [j for j in image_names if j.endswith('.tif')]\n",
    "        ind = [int(i.split('_')[-1].split('.')[0][1:]) for i in image_names]\n",
    "        sorted_image_names = [x for _, x in sorted(zip(ind, image_names))]\n",
    "        Rs[i].append(sorted_image_names)\n",
    "    return Rs"
   ]
  },
  {
   "cell_type": "code",
   "execution_count": 6,
   "id": "1cdca7f8-9f58-4b0c-953e-4e3b7e79758d",
   "metadata": {},
   "outputs": [],
   "source": [
    "control_images = get_image_path_dir(root_path+'/'+control[0]+'/')\n",
    "hom_images = get_image_path_dir(root_path+'/'+hom[0]+'/')"
   ]
  },
  {
   "cell_type": "code",
   "execution_count": 7,
   "id": "3e1a2153-0961-4cc5-8325-f628aed8466c",
   "metadata": {
    "scrolled": true
   },
   "outputs": [],
   "source": [
    "paths = []\n",
    "labels = []\n",
    "seq = []\n",
    "\n",
    "\n",
    "for i in hom_images.keys():\n",
    "    counter = 0\n",
    "    for j in hom_images[i][0]:\n",
    "        paths.append(root_path+sup_sets[0]+'/'+i+'/'+j)\n",
    "        labels.append([0,1])\n",
    "        seq.append(np.array(counter))\n",
    "        counter+=1\n",
    "        if counter>1500:\n",
    "            break\n",
    "\n",
    "for i in control_images.keys():\n",
    "    counter = 0\n",
    "    for j in control_images[i][0]:\n",
    "        paths.append(root_path+sup_sets[1]+'/'+i+'/'+j)\n",
    "        labels.append([1,0])\n",
    "        seq.append(np.array(counter))\n",
    "        counter+=1\n",
    "        if counter>1500:\n",
    "            break"
   ]
  },
  {
   "cell_type": "code",
   "execution_count": 8,
   "id": "c318eaf4-2c99-48ad-abe1-4831c3b04cb6",
   "metadata": {},
   "outputs": [],
   "source": [
    "class BaseDataset(Dataset):\n",
    "    def __init__(self, paths, labels, seq, device, transform_data, is_train=True, transform = True):\n",
    "        train_paths, test_paths, train_labels, test_labels, train_seq, test_seq = train_test_split(\n",
    "            paths, labels, seq, test_size=0.2, random_state=42)\n",
    "        self.device = device\n",
    "        self.transform = transform\n",
    "        self.transform_data = transform_data\n",
    "        self.is_train = is_train\n",
    "\n",
    "        if self.is_train:\n",
    "            self.paths, self.labels, self.seq = train_paths, train_labels, train_seq\n",
    "        else:\n",
    "            self.paths, self.labels, self.seq = test_paths, test_labels, test_seq\n",
    "\n",
    "\n",
    "    def __len__(self):\n",
    "        return len(self.labels)\n",
    "    \n",
    "\n",
    "    def __getitem__(self, index):\n",
    "        image = Image.open(self.paths[index]).convert('RGB')\n",
    "        x = image\n",
    "        if self.transform:\n",
    "            x = self.transform_data(x)\n",
    "        x = x.to(self.device)\n",
    "        seq_num = torch.tensor(self.seq[index], dtype=torch.long).to(self.device)\n",
    "        target = torch.tensor(self.labels[index], dtype=torch.long).to(self.device)\n",
    "        return x, target, seq_num"
   ]
  },
  {
   "cell_type": "code",
   "execution_count": 9,
   "id": "0202a10e-cfbd-404d-b02e-5ecb7c60540e",
   "metadata": {},
   "outputs": [
    {
     "name": "stderr",
     "output_type": "stream",
     "text": [
      "Using cache found in /Users/helium/.cache/torch/hub/B-cos_B-cos-v2_main\n"
     ]
    }
   ],
   "source": [
    "model = torch.hub.load('B-cos/B-cos-v2', 'vitc_l_patch1_14', pretrained=True)\n",
    "model[0].linear_head.linear.linear = NormedLinear(1024,2)\n",
    "model = model.to(device)"
   ]
  },
  {
   "cell_type": "code",
   "execution_count": 10,
   "id": "d8ff18ec-4e60-42ce-b6cb-24def63ccef9",
   "metadata": {},
   "outputs": [],
   "source": [
    "train_ds = BaseDataset(paths=paths, labels=labels, seq=seq, device=device, transform_data = model.transform, is_train=True)\n",
    "test_ds =  BaseDataset(paths=paths, labels=labels, seq=seq, device=device, transform_data = model.transform, is_train=False)\n"
   ]
  },
  {
   "cell_type": "code",
   "execution_count": 11,
   "id": "2adcc559-820c-45c6-b384-28c9e098a0b9",
   "metadata": {},
   "outputs": [],
   "source": [
    "train_loader = DataLoader(train_ds, batch_size= 4, shuffle=True)\n",
    "test_loader = DataLoader(test_ds, batch_size= 16, shuffle=False)"
   ]
  },
  {
   "cell_type": "code",
   "execution_count": 12,
   "id": "40e2f7bd-975d-48a8-82c6-4bd642303e12",
   "metadata": {},
   "outputs": [],
   "source": [
    "model.train()\n",
    "criterion = nn.BCELoss()\n",
    "optimizer = optim.Adam(model.parameters(), lr=0.001)\n",
    "sigmoid = nn.Sigmoid()"
   ]
  },
  {
   "cell_type": "code",
   "execution_count": 13,
   "id": "5b9ce641-4b1c-4416-aebf-d7b36f85716e",
   "metadata": {},
   "outputs": [],
   "source": [
    "def calculate_accuracy(model, data_loader=test_loader):\n",
    "    model.eval()\n",
    "    correct = 0\n",
    "    total = 0\n",
    "    sigmoid = nn.Sigmoid()\n",
    "    with torch.no_grad():\n",
    "        for inputs, labels,SQ in tqdm(data_loader):\n",
    "            outputs = model(inputs.to(device))\n",
    "            outputs = sigmoid(outputs.to(device))\n",
    "            _, predicted = torch.max(outputs.data, 1)\n",
    "            _, labels = torch.max(labels.data, 1)\n",
    "\n",
    "            total += labels.size(0)\n",
    "            correct += (predicted.to(device) == labels.to(device)).sum().item()\n",
    "    accuracy = correct / total * 100.0\n",
    "    return accuracy\n"
   ]
  },
  {
   "cell_type": "code",
   "execution_count": 14,
   "id": "47063dcf-9aa5-468f-856b-1e8895a1c74d",
   "metadata": {},
   "outputs": [],
   "source": [
    "epochs = 500\n",
    "log = []\n"
   ]
  },
  {
   "cell_type": "code",
   "execution_count": null,
   "id": "10415867-32e1-4222-9a11-142330597c81",
   "metadata": {},
   "outputs": [
    {
     "name": "stderr",
     "output_type": "stream",
     "text": [
      "Training:   0%|                                         | 0/751 [00:00<?, ?it/s]"
     ]
    }
   ],
   "source": [
    "counter = 0\n",
    "for epoch in range(epochs):\n",
    "    counter +=1\n",
    "    model.train()\n",
    "    running_loss = 0.0\n",
    "    for inputs, labels,SQ in tqdm(train_loader, desc=\"Training\"):\n",
    "        model.train()\n",
    "        optimizer.zero_grad()\n",
    "        outputs = model(inputs.to(device))\n",
    "        outputs = sigmoid(outputs.to(device))\n",
    "        loss = criterion(outputs.to(device), labels)\n",
    "        loss.backward()\n",
    "        optimizer.step()\n",
    "    break\n",
    "    test_acc = calculate_accuracy(model,test_loader)\n",
    "    print (test_acc)\n",
    "    log.append(test_acc)\n",
    "    if test_acc>test_log:\n",
    "        counter = 0\n",
    "        test_log = test_acc\n",
    "        torch.save(model.state_dict(), './models/'+datasets[dataset_id]+'_model.pth')\n",
    "    if counter > 40:\n",
    "        break\n"
   ]
  },
  {
   "cell_type": "code",
   "execution_count": null,
   "id": "1fba9bd0-7281-4abe-9042-3f1322c69ac4",
   "metadata": {},
   "outputs": [],
   "source": []
  },
  {
   "cell_type": "code",
   "execution_count": null,
   "id": "a313ac46-f79c-4336-9d50-07b184cdea7c",
   "metadata": {},
   "outputs": [],
   "source": []
  },
  {
   "cell_type": "code",
   "execution_count": null,
   "id": "9d228aa0-7c54-4e0c-b142-0c9b1f3702ee",
   "metadata": {},
   "outputs": [],
   "source": []
  },
  {
   "cell_type": "code",
   "execution_count": null,
   "id": "f8b0c688-ba22-4830-84b8-7df125d88824",
   "metadata": {},
   "outputs": [],
   "source": []
  },
  {
   "cell_type": "code",
   "execution_count": null,
   "id": "5edc78ca-0031-4ed6-a8f0-9d7e5b56c748",
   "metadata": {},
   "outputs": [],
   "source": []
  }
 ],
 "metadata": {
  "kernelspec": {
   "display_name": "Python 3 (ipykernel)",
   "language": "python",
   "name": "python3"
  },
  "language_info": {
   "codemirror_mode": {
    "name": "ipython",
    "version": 3
   },
   "file_extension": ".py",
   "mimetype": "text/x-python",
   "name": "python",
   "nbconvert_exporter": "python",
   "pygments_lexer": "ipython3",
   "version": "3.8.19"
  }
 },
 "nbformat": 4,
 "nbformat_minor": 5
}

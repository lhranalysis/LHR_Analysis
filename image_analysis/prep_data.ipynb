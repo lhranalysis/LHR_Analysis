{
 "cells": [
  {
   "cell_type": "code",
   "execution_count": 1,
   "id": "166fb546-1e8c-4c17-b714-7ddb41cb7f4f",
   "metadata": {},
   "outputs": [],
   "source": [
    "import os\n",
    "import tifffile as tiff\n",
    "from PIL import Image\n",
    "\n",
    "input_dir = \"./female_cells\"\n",
    "output_dir = \"./processed_female_cells\"\n",
    "os.makedirs(output_dir, exist_ok=True)\n",
    "\n",
    "valid_labels = {\"Control\", \"Mutant\", \"Treated\"}"
   ]
  },
  {
   "cell_type": "code",
   "execution_count": 2,
   "id": "3fedaaaa-0e43-4c5a-87ac-0e3f7bb18ca5",
   "metadata": {},
   "outputs": [],
   "source": [
    "for filename in sorted(os.listdir(input_dir)):\n",
    "    if not filename.lower().endswith('.tif'):\n",
    "        continue\n",
    "    \n",
    "    filepath = os.path.join(input_dir, filename)\n",
    "    parts = filename.split(' ')\n",
    "    label_str = parts[2] if len(parts) > 2 else \"Unknown\"\n",
    "    label_str = label_str.replace(\".tif\", \"\")\n",
    "\n",
    "    os.makedirs(output_dir+'/'+filename[:-4]+'/', exist_ok=True)\n",
    "    \n",
    "    try:\n",
    "        stack = tiff.imread(filepath)[:1500]\n",
    "    except Exception as e:\n",
    "        print(f\"Error reading {filename}: {e}\")\n",
    "        continue\n",
    "    \n",
    "    for i, img in enumerate(stack):\n",
    "        pil_img = Image.fromarray(img)\n",
    "        pil_img = pil_img.resize((224, 224))\n",
    "        pil_img.save(output_dir+'/'+filename[:-4]+'/'+str(i)+'.png')\n",
    "    "
   ]
  },
  {
   "cell_type": "code",
   "execution_count": null,
   "id": "fcbc9564-22f1-429f-87fa-50ba039d7dd4",
   "metadata": {},
   "outputs": [],
   "source": []
  },
  {
   "cell_type": "code",
   "execution_count": null,
   "id": "0684f4ef-b6fd-4945-b3b7-a288161b5c45",
   "metadata": {},
   "outputs": [],
   "source": []
  },
  {
   "cell_type": "code",
   "execution_count": null,
   "id": "d65881ca-161d-47ef-aa15-cb683d044a27",
   "metadata": {},
   "outputs": [],
   "source": []
  },
  {
   "cell_type": "code",
   "execution_count": null,
   "id": "3b5463e8-ee88-48cf-9a5a-dc7ea2607cbc",
   "metadata": {},
   "outputs": [],
   "source": [
    "for filename in sorted(os.listdir(input_dir)):\n",
    "    if not filename.lower().endswith('.tif'):\n",
    "        continue\n",
    "    \n",
    "    filepath = os.path.join(input_dir, filename)\n",
    "    \n",
    "    parts = filename.split(' ')\n",
    "    label_str = parts[2] if len(parts) > 2 else \"Unknown\"\n",
    "    label_str = label_str.replace(\".tif\", \"\")\n",
    "    \n",
    "    if label_str not in valid_labels:\n",
    "        print(f\"Skipping file {filename} due to unknown label: {label_str}\")\n",
    "        continue\n",
    "    \n",
    "    label_dir = os.path.join(output_dir, label_str)\n",
    "    os.makedirs(label_dir, exist_ok=True)\n",
    "    \n",
    "    try:\n",
    "        stack = tiff.imread(filepath)[:1500]\n",
    "    except Exception as e:\n",
    "        print(f\"Error reading {filename}: {e}\")\n",
    "        continue\n",
    "    \n",
    "    for i, img in enumerate(stack):\n",
    "        pil_img = Image.fromarray(img)\n",
    "        pil_img = pil_img.resize((224, 224))\n",
    "        # Construct a new filename; e.g., S830_Ov_Mutant_0001.png\n",
    "        base_name = os.path.splitext(filename)[0]\n",
    "        new_filename = f\"{base_name}_{i:04d}.png\"\n",
    "        pil_img.save(os.path.join(label_dir, new_filename))\n",
    "    \n",
    "    print(f\"Processed {filename} into {len(stack)} images in {label_dir}\")"
   ]
  },
  {
   "cell_type": "code",
   "execution_count": null,
   "id": "4368fa1b-0ebc-4725-aa43-464907abee20",
   "metadata": {},
   "outputs": [],
   "source": []
  }
 ],
 "metadata": {
  "kernelspec": {
   "display_name": "Python 3 (ipykernel)",
   "language": "python",
   "name": "python3"
  },
  "language_info": {
   "codemirror_mode": {
    "name": "ipython",
    "version": 3
   },
   "file_extension": ".py",
   "mimetype": "text/x-python",
   "name": "python",
   "nbconvert_exporter": "python",
   "pygments_lexer": "ipython3",
   "version": "3.8.19"
  }
 },
 "nbformat": 4,
 "nbformat_minor": 5
}
